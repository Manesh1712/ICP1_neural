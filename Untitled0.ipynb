{
  "nbformat": 4,
  "nbformat_minor": 0,
  "metadata": {
    "colab": {
      "provenance": []
    },
    "kernelspec": {
      "name": "python3",
      "display_name": "Python 3"
    },
    "language_info": {
      "name": "python"
    }
  },
  "cells": [
    {
      "cell_type": "code",
      "execution_count": 1,
      "metadata": {
        "colab": {
          "base_uri": "https://localhost:8080/"
        },
        "id": "JTBdpeLR5d47",
        "outputId": "fa1e8948-070c-4e93-b59b-94bf152545c1"
      },
      "outputs": [
        {
          "output_type": "stream",
          "name": "stdout",
          "text": [
            "enter a string: python\n",
            "List of characters: ['p', 'y', 't', 'h', 'o', 'n']\n",
            "modified list: ['p', 'y', 't', 'h']\n",
            "revesered string: h t y p\n"
          ]
        }
      ],
      "source": [
        "from posixpath import join\n",
        "input_string = input(\"enter a string: \")\n",
        "character_list = list(input_string)\n",
        "print(\"List of characters:\", character_list)\n",
        "\n",
        "del character_list[-1]\n",
        "del character_list[-1]\n",
        "print(\"modified list:\" , character_list)\n",
        "\n",
        "reverse_string= character_list.reverse()\n",
        "\n",
        "reverse_string = ' '.join(character_list)\n",
        "\n",
        "print(\"revesered string:\", reverse_string)"
      ]
    },
    {
      "cell_type": "code",
      "source": [
        "def replace_python(sentence):\n",
        "    modified_sentence = sentence.replace('python', 'pythons')\n",
        "    return modified_sentence\n",
        "\n",
        "input_sentence = input(\"Enter a sentence: \")\n",
        "result_sentence = replace_python(input_sentence)\n",
        "print(\"Modified sentence:\", result_sentence)\n",
        "\n"
      ],
      "metadata": {
        "colab": {
          "base_uri": "https://localhost:8080/"
        },
        "id": "gqVOLf51B29X",
        "outputId": "46bd7fb3-5127-4539-dabd-c3fd56ed3954"
      },
      "execution_count": 31,
      "outputs": [
        {
          "output_type": "stream",
          "name": "stdout",
          "text": [
            "Enter a sentence: i love playing with python\n",
            "Modified sentence: i love playing with pythons\n"
          ]
        }
      ]
    },
    {
      "cell_type": "code",
      "source": [
        "def calculate_letter_grade(class_score):\n",
        "    if class_score >= 90:\n",
        "        return 'A'\n",
        "    elif class_score >= 80:\n",
        "        return 'B'\n",
        "    elif class_score >= 70:\n",
        "        return 'C'\n",
        "    elif class_score >= 60:\n",
        "        return 'D'\n",
        "    else:\n",
        "        return 'F'\n",
        "\n",
        "class_score = float(input(\"Enter class score: \"))\n",
        "\n",
        "letter_grade = calculate_letter_grade(class_score)\n",
        "\n",
        "print(\"Letter grade:\", letter_grade)\n"
      ],
      "metadata": {
        "colab": {
          "base_uri": "https://localhost:8080/"
        },
        "id": "s7LanS7cFkhd",
        "outputId": "6e807437-2e8b-4986-cfe8-b843378e03d2"
      },
      "execution_count": 33,
      "outputs": [
        {
          "output_type": "stream",
          "name": "stdout",
          "text": [
            "Enter class score: 60\n",
            "Letter grade: D\n"
          ]
        }
      ]
    }
  ]
}